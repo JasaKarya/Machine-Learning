{
  "nbformat": 4,
  "nbformat_minor": 0,
  "metadata": {
    "colab": {
      "provenance": []
    },
    "kernelspec": {
      "name": "python3",
      "display_name": "Python 3"
    },
    "language_info": {
      "name": "python"
    }
  },
  "cells": [
    {
      "cell_type": "markdown",
      "source": [
        "#Generate User Ratings"
      ],
      "metadata": {
        "id": "MP2xXg4VC414"
      }
    },
    {
      "cell_type": "markdown",
      "source": [
        "Import libraries"
      ],
      "metadata": {
        "id": "8HlWgjE1Cshk"
      }
    },
    {
      "cell_type": "code",
      "source": [
        "import numpy as np\n",
        "import pandas as pd"
      ],
      "metadata": {
        "id": "mycaj2O3CvTo"
      },
      "execution_count": 95,
      "outputs": []
    },
    {
      "cell_type": "markdown",
      "source": [
        "Parameters for synthetic data generation"
      ],
      "metadata": {
        "id": "YESvR0HnDART"
      }
    },
    {
      "cell_type": "markdown",
      "source": [
        "## Generate natural user ratings based on crafted user preference"
      ],
      "metadata": {
        "id": "m58YwAgTHfxj"
      }
    },
    {
      "cell_type": "code",
      "source": [
        "num_users = 100000  # Number of users\n",
        "num_categories = 8  # Number of categories\n",
        "min_ratings = 8  # Minimum number of ratings per user\n",
        "max_ratings = 100  # Maximum number of ratings per user"
      ],
      "metadata": {
        "id": "hUV4mJvJDT0q"
      },
      "execution_count": 96,
      "outputs": []
    },
    {
      "cell_type": "markdown",
      "source": [
        "Crafted list of category pairs with positive correlations.\n",
        "This 2D matrix defines a made up arbitrary positive correlations between categories to create patterns within the data."
      ],
      "metadata": {
        "id": "PsPILHvRDY_B"
      }
    },
    {
      "cell_type": "code",
      "source": [
        "correlation_pairs = [\n",
        "    [\"cat_1\", \"cat_8\"], [\"cat_1\", \"cat_3\"],\n",
        "    [\"cat_1\", \"cat_5\"], [\"cat_2\", \"cat_6\"],\n",
        "    [\"cat_2\", \"cat_3\"], [\"cat_2\", \"cat_4\"],\n",
        "    [\"cat_2\", \"cat_8\"], [\"cat_3\", \"cat_5\"],\n",
        "    [\"cat_3\", \"cat_7\"], [\"cat_3\", \"cat_8\"],\n",
        "    [\"cat_4\", \"cat_5\"], [\"cat_4\", \"cat_8\"],\n",
        "    [\"cat_5\", \"cat_8\"], [\"cat_5\", \"cat_6\"],\n",
        "    [\"cat_7\", \"cat_8\"]\n",
        "]"
      ],
      "metadata": {
        "id": "yMI6xn2YDk2K"
      },
      "execution_count": 97,
      "outputs": []
    },
    {
      "cell_type": "markdown",
      "source": [
        "Initialize the dataframe for user ratings with initial random ratings"
      ],
      "metadata": {
        "id": "oYOGAkY_DoOg"
      }
    },
    {
      "cell_type": "code",
      "source": [
        "user_ratings_csv = pd.DataFrame({\n",
        "    'id_user': np.arange(1, num_users + 1),\n",
        "    'num_ratings': np.random.randint(min_ratings, max_ratings + 1, num_users),\n",
        "    'avg_rating': np.zeros(num_users)  # Placeholder for average rating\n",
        "})"
      ],
      "metadata": {
        "id": "Y4fdaq5QDyti"
      },
      "execution_count": 98,
      "outputs": []
    },
    {
      "cell_type": "markdown",
      "source": [
        "Generate skewed ratings with spikes at whole numbers"
      ],
      "metadata": {
        "id": "j3f5Wf99GEYj"
      }
    },
    {
      "cell_type": "code",
      "source": [
        "def generate_ratings(num_users):\n",
        "    ratings = []\n",
        "    for _ in range(num_users):\n",
        "        if np.random.rand() < 0.20:\n",
        "            # Directly append 0 with a 20% chance\n",
        "            ratings.append(0)\n",
        "        else:\n",
        "            # Generate ratings from 1 to 5 with the specified distribution\n",
        "            rating = np.random.choice([1, 2, 3, 4, 5], p=[0.05, 0.10, 0.20, 0.40, 0.25])\n",
        "            # Add random float variation and then round\n",
        "            rating = np.clip(rating + np.random.normal(0, 0.2), 1, 5).round(3)\n",
        "            ratings.append(rating)\n",
        "    return ratings"
      ],
      "metadata": {
        "id": "3OIfVIIvGHfr"
      },
      "execution_count": 99,
      "outputs": []
    },
    {
      "cell_type": "markdown",
      "source": [
        "Adding columns for each category with ratings"
      ],
      "metadata": {
        "id": "9f6338xNGYz6"
      }
    },
    {
      "cell_type": "code",
      "source": [
        "for i in range(1, num_categories + 1):\n",
        "    user_ratings_csv[f'cat_{i}'] = generate_ratings(num_users)"
      ],
      "metadata": {
        "id": "qiahPHIsGbHR"
      },
      "execution_count": 100,
      "outputs": []
    },
    {
      "cell_type": "markdown",
      "source": [
        "Introduce correlations based on the crafted correlation matrix"
      ],
      "metadata": {
        "id": "_Nit1_g-Gdz7"
      }
    },
    {
      "cell_type": "code",
      "source": [
        "for cat1, cat2 in correlation_pairs:\n",
        "    # Adjust ratings to be positively correlated\n",
        "    # Identify indices where neither rating is 0\n",
        "    non_zero_indices = (user_ratings_csv[cat1] != 0) & (user_ratings_csv[cat2] != 0)\n",
        "\n",
        "    # Calculate the average rating for non-zero pairs\n",
        "    avg_rating = (user_ratings_csv.loc[non_zero_indices, cat1] + user_ratings_csv.loc[non_zero_indices, cat2]) / 2\n",
        "\n",
        "    # Adjust ratings to be positively correlated for non-zero pairs\n",
        "    user_ratings_csv.loc[non_zero_indices, cat1] = np.random.normal(avg_rating, 0.2).clip(1, 5).round(3)\n",
        "    user_ratings_csv.loc[non_zero_indices, cat2] = np.random.normal(avg_rating, 0.2).clip(1, 5).round(3)\n"
      ],
      "metadata": {
        "id": "i2GIP4hOGjsK"
      },
      "execution_count": 101,
      "outputs": []
    },
    {
      "cell_type": "markdown",
      "source": [
        "Calculate average ratings for each user and round to 3 decimal places"
      ],
      "metadata": {
        "id": "1CH4rILLGrFl"
      }
    },
    {
      "cell_type": "code",
      "source": [
        "user_ratings_csv['avg_rating'] = user_ratings_csv[[f'cat_{i}' for i in range(1, num_categories + 1)]].mean(axis=1).round(3)"
      ],
      "metadata": {
        "id": "K6X7Jy76GxDq"
      },
      "execution_count": 102,
      "outputs": []
    },
    {
      "cell_type": "markdown",
      "source": [
        "Save the DataFrame to a CSV file"
      ],
      "metadata": {
        "id": "Gwyp6vNoGzxb"
      }
    },
    {
      "cell_type": "code",
      "source": [
        "csv_file_path = 'synthetic_user_ratings_correlation.csv'\n",
        "\n",
        "user_ratings_csv.to_csv(csv_file_path, index=False)"
      ],
      "metadata": {
        "id": "6y3AW3OyG3qC"
      },
      "execution_count": 103,
      "outputs": []
    },
    {
      "cell_type": "code",
      "source": [
        "# Return the path to the CSV file for download\n",
        "csv_file_path"
      ],
      "metadata": {
        "colab": {
          "base_uri": "https://localhost:8080/",
          "height": 35
        },
        "id": "ByCjgLnwHrDD",
        "outputId": "a04271bb-dea0-4583-cc5e-cc578af5814d"
      },
      "execution_count": 104,
      "outputs": [
        {
          "output_type": "execute_result",
          "data": {
            "text/plain": [
              "'synthetic_user_ratings_correlation.csv'"
            ],
            "application/vnd.google.colaboratory.intrinsic+json": {
              "type": "string"
            }
          },
          "metadata": {},
          "execution_count": 104
        }
      ]
    },
    {
      "cell_type": "markdown",
      "source": [
        "## Display data"
      ],
      "metadata": {
        "id": "LUUBjgHiHtQd"
      }
    },
    {
      "cell_type": "markdown",
      "source": [
        "Load the saved file"
      ],
      "metadata": {
        "id": "rA7yOGH1IQdr"
      }
    },
    {
      "cell_type": "code",
      "source": [
        "file_path = csv_file_path\n",
        "data = pd.read_csv(file_path)"
      ],
      "metadata": {
        "id": "Qr6RNcs6ILiL"
      },
      "execution_count": 105,
      "outputs": []
    },
    {
      "cell_type": "markdown",
      "source": [
        "Shuffle the data to see unique values"
      ],
      "metadata": {
        "id": "yTLZeWqIIaEt"
      }
    },
    {
      "cell_type": "code",
      "source": [
        "shuffled_data = data.sample(n=100, random_state=42)"
      ],
      "metadata": {
        "id": "VlbHxRbQIc5K"
      },
      "execution_count": 106,
      "outputs": []
    },
    {
      "cell_type": "markdown",
      "source": [
        "Display 100 values in the table"
      ],
      "metadata": {
        "id": "bWkrVN6yIeqU"
      }
    },
    {
      "cell_type": "code",
      "source": [
        "print(shuffled_data)"
      ],
      "metadata": {
        "colab": {
          "base_uri": "https://localhost:8080/"
        },
        "id": "paj12CP2Ihy9",
        "outputId": "3838b7a6-d0bb-4b4a-bfa9-50003dd45647"
      },
      "execution_count": 107,
      "outputs": [
        {
          "output_type": "stream",
          "name": "stdout",
          "text": [
            "       id_user  num_ratings  avg_rating  cat_1  cat_2  cat_3  cat_4  cat_5  \\\n",
            "75721    75722           18       3.275  0.000  4.210  4.831  4.337  4.033   \n",
            "80184    80185           46       2.911  3.825  3.624  0.000  0.000  4.292   \n",
            "19864    19865           66       2.030  0.000  3.566  4.270  3.881  0.000   \n",
            "76699    76700           29       3.317  4.723  3.578  3.766  3.720  0.000   \n",
            "92991    92992           23       2.711  0.000  0.000  4.165  4.561  0.000   \n",
            "...        ...          ...         ...    ...    ...    ...    ...    ...   \n",
            "91957    91958           64       3.664  4.246  3.384  3.508  3.509  3.665   \n",
            "81346    81347           36       2.855  1.712  2.999  2.961  3.504  3.864   \n",
            "55325    55326           31       1.493  1.305  0.000  1.506  5.000  0.000   \n",
            "29857    29858           98       3.071  4.006  3.266  2.629  3.163  2.773   \n",
            "71222    71223           90       2.667  3.710  4.356  3.442  3.323  3.411   \n",
            "\n",
            "       cat_6  cat_7  cat_8  \n",
            "75721  0.000  4.217  4.570  \n",
            "80184  4.440  3.660  3.448  \n",
            "19864  4.526  0.000  0.000  \n",
            "76699  3.100  3.626  4.024  \n",
            "92991  4.085  4.450  4.425  \n",
            "...      ...    ...    ...  \n",
            "91957  3.457  3.707  3.835  \n",
            "81346  4.149  0.000  3.648  \n",
            "55325  4.136  0.000  0.000  \n",
            "29857  3.142  2.747  2.841  \n",
            "71222  3.096  0.000  0.000  \n",
            "\n",
            "[100 rows x 11 columns]\n"
          ]
        }
      ]
    },
    {
      "cell_type": "markdown",
      "source": [
        "### Visualize Correlations"
      ],
      "metadata": {
        "id": "3BMCSdHrhGCF"
      }
    },
    {
      "cell_type": "markdown",
      "source": [
        "Include libraries"
      ],
      "metadata": {
        "id": "QamVJkLchOF2"
      }
    },
    {
      "cell_type": "code",
      "source": [
        "import matplotlib.pyplot as plt\n",
        "import seaborn as sns"
      ],
      "metadata": {
        "id": "AQBxyRWuhSqr"
      },
      "execution_count": 108,
      "outputs": []
    },
    {
      "cell_type": "markdown",
      "source": [
        "Load the generated dataset and premade categories"
      ],
      "metadata": {
        "id": "1_Vxh8wuhZEu"
      }
    },
    {
      "cell_type": "code",
      "source": [
        "file_path_ratings = csv_file_path\n",
        "file_path_categories = 'jasa_categories_enumerations.csv'"
      ],
      "metadata": {
        "id": "HRyJ2yBchkBM"
      },
      "execution_count": 109,
      "outputs": []
    },
    {
      "cell_type": "markdown",
      "source": [
        "List of category pairs for correlation analysis"
      ],
      "metadata": {
        "id": "NhnHKOPqhx6e"
      }
    },
    {
      "cell_type": "code",
      "source": [
        "correlation_pairs = [\n",
        "    [\"cat_1\", \"cat_8\"], [\"cat_1\", \"cat_3\"],\n",
        "    [\"cat_1\", \"cat_5\"], [\"cat_2\", \"cat_6\"],\n",
        "    [\"cat_2\", \"cat_3\"], [\"cat_2\", \"cat_4\"],\n",
        "    [\"cat_2\", \"cat_8\"], [\"cat_3\", \"cat_5\"],\n",
        "    [\"cat_3\", \"cat_7\"], [\"cat_3\", \"cat_8\"],\n",
        "    [\"cat_4\", \"cat_5\"], [\"cat_4\", \"cat_8\"],\n",
        "    [\"cat_5\", \"cat_8\"], [\"cat_5\", \"cat_6\"],\n",
        "    [\"cat_7\", \"cat_8\"]\n",
        "]"
      ],
      "metadata": {
        "id": "j5ovcTkvh1ZQ"
      },
      "execution_count": 110,
      "outputs": []
    },
    {
      "cell_type": "markdown",
      "source": [
        "Reading the files"
      ],
      "metadata": {
        "id": "Lgoc34JJh3Fn"
      }
    },
    {
      "cell_type": "code",
      "source": [
        "ratings_data = pd.read_csv(file_path_ratings)\n",
        "categories_data = pd.read_csv(file_path_categories)"
      ],
      "metadata": {
        "id": "qyvmh5Q-h8F_"
      },
      "execution_count": 111,
      "outputs": []
    },
    {
      "cell_type": "markdown",
      "source": [
        "Calculate correlations for the specified pairs"
      ],
      "metadata": {
        "id": "oRI9jrEiiGl8"
      }
    },
    {
      "cell_type": "code",
      "source": [
        "correlation_results = {}\n",
        "for pair in correlation_pairs:\n",
        "    filtered_data = ratings_data[(ratings_data[pair[0]] != 0) & (ratings_data[pair[1]] != 0)]\n",
        "    correlation_results[f\"{pair[0]} & {pair[1]}\"] = filtered_data[pair].corr().iloc[0, 1]\n"
      ],
      "metadata": {
        "id": "1wVaYlvpiIVh"
      },
      "execution_count": 115,
      "outputs": []
    },
    {
      "cell_type": "markdown",
      "source": [
        "Display the correlation values"
      ],
      "metadata": {
        "id": "QihalW7riM-Y"
      }
    },
    {
      "cell_type": "code",
      "source": [
        "print(correlation_results)"
      ],
      "metadata": {
        "id": "Y_TOIEqwiRrF",
        "colab": {
          "base_uri": "https://localhost:8080/"
        },
        "outputId": "b69c34e1-ded5-4b7c-e3ef-81cf60687596"
      },
      "execution_count": 116,
      "outputs": [
        {
          "output_type": "stream",
          "name": "stdout",
          "text": [
            "{'cat_1 & cat_8': 0.3949222560126843, 'cat_1 & cat_3': 0.4124744427443944, 'cat_1 & cat_5': 0.2829288043546738, 'cat_2 & cat_6': 0.4010067780703193, 'cat_2 & cat_3': 0.5340256536885727, 'cat_2 & cat_4': 0.6608163333597045, 'cat_2 & cat_8': 0.4118950079849917, 'cat_3 & cat_5': 0.39234963944450435, 'cat_3 & cat_7': 0.7463102831191614, 'cat_3 & cat_8': 0.6881081290895223, 'cat_4 & cat_5': 0.583104994644563, 'cat_4 & cat_8': 0.6509167170337579, 'cat_5 & cat_8': 0.4717155128779561, 'cat_5 & cat_6': 0.8863789010315247, 'cat_7 & cat_8': 0.8739661542151187}\n"
          ]
        }
      ]
    },
    {
      "cell_type": "markdown",
      "source": [
        "Plotting the correlations for a visual representation and Extracting categories for heatmap"
      ],
      "metadata": {
        "id": "fzHpiXEviTyH"
      }
    },
    {
      "cell_type": "code",
      "source": [
        "filtered_ratings_data = ratings_data[(ratings_data[categories] != 0).all(axis=1)]\n",
        "correlation_matrix = filtered_ratings_data[categories].corr()\n",
        "plt.figure(figsize=(10, 8))\n",
        "sns.heatmap(correlation_matrix, annot=True, cmap=\"coolwarm\")\n",
        "plt.title(\"Correlation Matrix of Categories (Excluding 0 Values)\")\n",
        "plt.show()"
      ],
      "metadata": {
        "id": "Hb0fTTtQiYuJ",
        "colab": {
          "base_uri": "https://localhost:8080/",
          "height": 699
        },
        "outputId": "07f0946c-4f62-43fc-8913-db34e113b63a"
      },
      "execution_count": 117,
      "outputs": [
        {
          "output_type": "display_data",
          "data": {
            "text/plain": [
              "<Figure size 1000x800 with 2 Axes>"
            ],
            "image/png": "[encoded data removed]"
          },
          "metadata": {}
        }
      ]
    }
  ]
}