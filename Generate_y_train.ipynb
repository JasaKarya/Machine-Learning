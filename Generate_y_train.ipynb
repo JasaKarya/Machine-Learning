{
  "nbformat": 4,
  "nbformat_minor": 0,
  "metadata": {
    "colab": {
      "provenance": []
    },
    "kernelspec": {
      "name": "python3",
      "display_name": "Python 3"
    },
    "language_info": {
      "name": "python"
    }
  },
  "cells": [
    {
      "cell_type": "markdown",
      "source": [
        "#Generate y train"
      ],
      "metadata": {
        "id": "vTQ9VO6ZKwbq"
      }
    },
    {
      "cell_type": "markdown",
      "source": [
        "Import libraries"
      ],
      "metadata": {
        "id": "qrrug549Kyq6"
      }
    },
    {
      "cell_type": "code",
      "source": [
        "import pandas as pd\n",
        "import numpy as np"
      ],
      "metadata": {
        "id": "QG7wryVJK0HD"
      },
      "execution_count": 1,
      "outputs": []
    },
    {
      "cell_type": "markdown",
      "source": [
        "Load the generated store data CSV to use for the generation of the y train"
      ],
      "metadata": {
        "id": "hv8kQG70K1Fq"
      }
    },
    {
      "cell_type": "code",
      "source": [
        "file_path = 'synthetic_store_data_100k.csv'\n",
        "store_data = pd.read_csv(file_path)"
      ],
      "metadata": {
        "id": "H2JNBQ6RK7Zd"
      },
      "execution_count": 2,
      "outputs": []
    },
    {
      "cell_type": "markdown",
      "source": [
        "Randomly round a number to the nearest 0.5"
      ],
      "metadata": {
        "id": "llI15u7lLG3F"
      }
    },
    {
      "cell_type": "code",
      "source": [
        "def round_to_nearest_half(number):\n",
        "    lower_half = np.floor(number * 2) / 2\n",
        "    upper_half = lower_half + 0.5\n",
        "    # Randomly choose between the lower and upper half, weighted by proximity\n",
        "    return np.random.choice([lower_half, upper_half], p=[1 - (number - lower_half), number - lower_half])"
      ],
      "metadata": {
        "id": "4M-Q0knLLKH8"
      },
      "execution_count": 3,
      "outputs": []
    },
    {
      "cell_type": "markdown",
      "source": [
        "Generate the y_train array from the store's average rating"
      ],
      "metadata": {
        "id": "FmF7LfvjLMb0"
      }
    },
    {
      "cell_type": "code",
      "source": [
        "y_train = store_data['avg_rating'].apply(round_to_nearest_half).values"
      ],
      "metadata": {
        "id": "OJohtt0dLO0r"
      },
      "execution_count": 4,
      "outputs": []
    },
    {
      "cell_type": "markdown",
      "source": [
        "Create a dataframe for the generated data"
      ],
      "metadata": {
        "id": "PTbvzEV7LQr7"
      }
    },
    {
      "cell_type": "code",
      "source": [
        "y_train_df = pd.DataFrame(y_train, columns=['rounded_rating'])"
      ],
      "metadata": {
        "id": "3ssFWsGsLX6D"
      },
      "execution_count": 5,
      "outputs": []
    },
    {
      "cell_type": "markdown",
      "source": [
        "Save into a csv format"
      ],
      "metadata": {
        "id": "EFKBElkjLaHT"
      }
    },
    {
      "cell_type": "code",
      "source": [
        "y_train_csv_file_path = 'y_train.csv'\n",
        "y_train_df.to_csv(y_train_csv_file_path, index=False, header=False)"
      ],
      "metadata": {
        "id": "D3ITAYUALc1S"
      },
      "execution_count": 6,
      "outputs": []
    }
  ]
}