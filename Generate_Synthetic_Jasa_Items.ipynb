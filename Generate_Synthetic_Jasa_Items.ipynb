{
  "nbformat": 4,
  "nbformat_minor": 0,
  "metadata": {
    "colab": {
      "provenance": []
    },
    "kernelspec": {
      "name": "python3",
      "display_name": "Python 3"
    },
    "language_info": {
      "name": "python"
    }
  },
  "cells": [
    {
      "cell_type": "markdown",
      "source": [
        "#Generate Synthetic Jasa Items"
      ],
      "metadata": {
        "id": "cufl1XGmEf8E"
      }
    },
    {
      "cell_type": "markdown",
      "source": [
        "Import Libraries"
      ],
      "metadata": {
        "id": "O1owWxboEjV8"
      }
    },
    {
      "cell_type": "code",
      "source": [
        "import numpy as np\n",
        "import pandas as pd"
      ],
      "metadata": {
        "id": "Mt8hRJQFEo-x"
      },
      "execution_count": 109,
      "outputs": []
    },
    {
      "cell_type": "markdown",
      "source": [
        "Define data generation quantity"
      ],
      "metadata": {
        "id": "InQFrD4eEtQ4"
      }
    },
    {
      "cell_type": "code",
      "source": [
        "num_stores = 100000  # Number of stores, same number as in user ratings\n",
        "num_categories = 8  # Number of categories, same as in the user data"
      ],
      "metadata": {
        "id": "U8unWdNLE1H6"
      },
      "execution_count": 110,
      "outputs": []
    },
    {
      "cell_type": "markdown",
      "source": [
        "The 2D array of category pairs with positive correlations"
      ],
      "metadata": {
        "id": "g8T2xiOuE61V"
      }
    },
    {
      "cell_type": "code",
      "source": [
        "correlation_pairs = [\n",
        "    [\"cat_1\", \"cat_8\"], [\"cat_1\", \"cat_3\"],\n",
        "    [\"cat_1\", \"cat_5\"], [\"cat_2\", \"cat_6\"],\n",
        "    [\"cat_2\", \"cat_3\"], [\"cat_2\", \"cat_4\"],\n",
        "    [\"cat_2\", \"cat_8\"], [\"cat_3\", \"cat_5\"],\n",
        "    [\"cat_3\", \"cat_7\"], [\"cat_3\", \"cat_8\"],\n",
        "    [\"cat_4\", \"cat_5\"], [\"cat_4\", \"cat_8\"],\n",
        "    [\"cat_5\", \"cat_8\"], [\"cat_5\", \"cat_6\"],\n",
        "    [\"cat_7\", \"cat_8\"], [\"cat_4\", \"cat_6\"],\n",
        "]"
      ],
      "metadata": {
        "id": "FIWv0xcYFBFi"
      },
      "execution_count": 111,
      "outputs": []
    },
    {
      "cell_type": "markdown",
      "source": [
        "Generate average store ratings as float values, similar to user ratings"
      ],
      "metadata": {
        "id": "RSCHp-TAFIqH"
      }
    },
    {
      "cell_type": "code",
      "source": [
        "def generate_store_ratings(num_stores):\n",
        "    # Generate base ratings using the same distribution as user ratings\n",
        "    base_ratings = np.random.choice([1, 2, 3, 4, 5], size=num_stores, p=[0.025, 0.10, 0.225, 0.40, 0.25])\n",
        "    # Adding random float variation to the base ratings\n",
        "    float_ratings = base_ratings + np.random.normal(0, 0.2, num_stores)\n",
        "    # Clipping and rounding the ratings to 3 decimal places\n",
        "    return np.clip(float_ratings, 1, 5).round(3)"
      ],
      "metadata": {
        "id": "2_VGAFuLFPIP"
      },
      "execution_count": 112,
      "outputs": []
    },
    {
      "cell_type": "markdown",
      "source": [
        "Create a DataFrame for store data"
      ],
      "metadata": {
        "id": "ZhCHfpnNFVoH"
      }
    },
    {
      "cell_type": "code",
      "source": [
        "store_data = pd.DataFrame({\n",
        "    'store_id': np.arange(1, num_stores + 1),\n",
        "    'avg_rating': generate_store_ratings(num_stores)\n",
        "})"
      ],
      "metadata": {
        "id": "qnAd6Ik9FZ1v"
      },
      "execution_count": 113,
      "outputs": []
    },
    {
      "cell_type": "markdown",
      "source": [
        "Adding one-hot encoded category columns"
      ],
      "metadata": {
        "id": "P5IJr3IaFbvn"
      }
    },
    {
      "cell_type": "code",
      "source": [
        "for i in range(1, num_categories + 1):\n",
        "    store_data[f'cat_{i}'] = 0"
      ],
      "metadata": {
        "id": "6TMwstyYFjRf"
      },
      "execution_count": 114,
      "outputs": []
    },
    {
      "cell_type": "markdown",
      "source": [
        "Select up to 3 categories for each store, biased towards correlation pairs"
      ],
      "metadata": {
        "id": "TBLkFp1sFlFO"
      }
    },
    {
      "cell_type": "code",
      "source": [
        "def select_categories(correlation_pairs, num_categories):\n",
        "    # Decide the number of categories to select: 1, 2, or 3\n",
        "    num_selected = np.random.choice([1, 2, 3], p=[0.15, 0.70, 0.15])\n",
        "\n",
        "    if num_selected == 1:\n",
        "        # Select one random category\n",
        "        return [np.random.choice([f'cat_{i}' for i in range(1, num_categories + 1)])]\n",
        "    elif num_selected == 2:\n",
        "        # Select one pair from the correlation pairs\n",
        "        chosen_pair = correlation_pairs[np.random.randint(len(correlation_pairs))]\n",
        "        return list(chosen_pair)\n",
        "    else:  # num_selected == 3\n",
        "        # Select one pair and one additional category\n",
        "        chosen_pair = correlation_pairs[np.random.randint(len(correlation_pairs))]\n",
        "        remaining_categories = [f'cat_{i}' for i in range(1, num_categories + 1) if f'cat_{i}' not in chosen_pair]\n",
        "        third_category = np.random.choice(remaining_categories)\n",
        "        return list(chosen_pair) + [third_category]"
      ],
      "metadata": {
        "id": "QbpqfYrFF0CQ"
      },
      "execution_count": 115,
      "outputs": []
    },
    {
      "cell_type": "markdown",
      "source": [
        "Assigning active categories to each store"
      ],
      "metadata": {
        "id": "8AlfjMC7F6cB"
      }
    },
    {
      "cell_type": "code",
      "source": [
        "for index, row in store_data.iterrows():\n",
        "    active_categories = select_categories(correlation_pairs, num_categories)\n",
        "    for cat in active_categories:\n",
        "        store_data.at[index, cat] = 1"
      ],
      "metadata": {
        "id": "zumDDHAjGE2J"
      },
      "execution_count": 116,
      "outputs": []
    },
    {
      "cell_type": "markdown",
      "source": [
        "Save the store data into a csv"
      ],
      "metadata": {
        "id": "r5dnI9NQGHjb"
      }
    },
    {
      "cell_type": "code",
      "source": [
        "store_csv_file_path = 'synthetic_store_data.csv'\n",
        "store_data.to_csv(store_csv_file_path, index=False)"
      ],
      "metadata": {
        "id": "OF7qRiNJGLMJ"
      },
      "execution_count": 117,
      "outputs": []
    },
    {
      "cell_type": "markdown",
      "source": [
        "## Display the generated Data"
      ],
      "metadata": {
        "id": "Fcxu7U_CGcm7"
      }
    },
    {
      "cell_type": "markdown",
      "source": [
        "Load saved csv"
      ],
      "metadata": {
        "id": "u0ML8R4lGoCD"
      }
    },
    {
      "cell_type": "code",
      "source": [
        "saved_data = pd.read_csv(store_csv_file_path)"
      ],
      "metadata": {
        "id": "Z9F4pqadGf47"
      },
      "execution_count": 118,
      "outputs": []
    },
    {
      "cell_type": "markdown",
      "source": [
        "Shuffle the data"
      ],
      "metadata": {
        "id": "Z-N4Yq90GrUi"
      }
    },
    {
      "cell_type": "code",
      "source": [
        "shuffled_data = saved_data.sample(n=100, random_state=42)"
      ],
      "metadata": {
        "id": "VUrUD2wAGtC9"
      },
      "execution_count": 119,
      "outputs": []
    },
    {
      "cell_type": "markdown",
      "source": [
        "Display 100 values in the table"
      ],
      "metadata": {
        "id": "YHPe6zKcGvvi"
      }
    },
    {
      "cell_type": "code",
      "source": [
        "print(shuffled_data)"
      ],
      "metadata": {
        "colab": {
          "base_uri": "https://localhost:8080/"
        },
        "id": "tCHkGwTtGxkK",
        "outputId": "ab421377-8b62-4e74-bdcb-c2a70e01e557"
      },
      "execution_count": 120,
      "outputs": [
        {
          "output_type": "stream",
          "name": "stdout",
          "text": [
            "       store_id  avg_rating  cat_1  cat_2  cat_3  cat_4  cat_5  cat_6  cat_7  \\\n",
            "75721     75722       4.910      0      0      1      0      0      0      1   \n",
            "80184     80185       4.052      0      0      1      0      0      0      0   \n",
            "19864     19865       2.086      0      0      0      0      0      1      0   \n",
            "76699     76700       3.233      0      0      0      1      1      0      0   \n",
            "92991     92992       4.124      0      0      1      0      0      0      1   \n",
            "...         ...         ...    ...    ...    ...    ...    ...    ...    ...   \n",
            "91957     91958       3.232      0      0      0      1      0      1      0   \n",
            "81346     81347       5.000      0      0      0      1      1      0      0   \n",
            "55325     55326       4.756      1      0      0      0      0      0      0   \n",
            "29857     29858       4.150      1      0      0      0      0      0      0   \n",
            "71222     71223       4.603      0      0      0      0      1      1      0   \n",
            "\n",
            "       cat_8  \n",
            "75721      1  \n",
            "80184      1  \n",
            "19864      0  \n",
            "76699      0  \n",
            "92991      0  \n",
            "...      ...  \n",
            "91957      0  \n",
            "81346      0  \n",
            "55325      1  \n",
            "29857      1  \n",
            "71222      0  \n",
            "\n",
            "[100 rows x 10 columns]\n"
          ]
        }
      ]
    },
    {
      "cell_type": "markdown",
      "source": [
        "## Analyze data for Patterns"
      ],
      "metadata": {
        "id": "V6NcBRHeG0Dz"
      }
    },
    {
      "cell_type": "markdown",
      "source": [
        "Import matplotlib"
      ],
      "metadata": {
        "id": "IDy1KOcoG4wg"
      }
    },
    {
      "cell_type": "code",
      "source": [
        "import matplotlib.pyplot as plt"
      ],
      "metadata": {
        "id": "VkN1RdQiHDmi"
      },
      "execution_count": 121,
      "outputs": []
    },
    {
      "cell_type": "markdown",
      "source": [
        "Load saved csv"
      ],
      "metadata": {
        "id": "Lmy_fFmQHEOi"
      }
    },
    {
      "cell_type": "code",
      "source": [
        "file_path = store_csv_file_path\n",
        "store_data = pd.read_csv(file_path)"
      ],
      "metadata": {
        "id": "mwdy1f0dHJvr"
      },
      "execution_count": 122,
      "outputs": []
    },
    {
      "cell_type": "markdown",
      "source": [
        "Find Category Combination Distributions"
      ],
      "metadata": {
        "id": "BK0U28D2HRwP"
      }
    },
    {
      "cell_type": "code",
      "source": [
        "category_columns = [f'cat_{i}' for i in range(1, 9)]\n",
        "store_data['category_combination'] = store_data[category_columns].apply(lambda row: '_'.join(row.index[row == 1]), axis=1)\n",
        "combination_distribution = store_data['category_combination'].value_counts()\n",
        "\n",
        "print(combination_distribution)"
      ],
      "metadata": {
        "colab": {
          "base_uri": "https://localhost:8080/"
        },
        "id": "r_rt-VyXHXcs",
        "outputId": "4d9ef9a0-4730-4441-ea7d-5712038348b5"
      },
      "execution_count": 123,
      "outputs": [
        {
          "output_type": "stream",
          "name": "stdout",
          "text": [
            "cat_1_cat_8          4456\n",
            "cat_7_cat_8          4452\n",
            "cat_5_cat_8          4435\n",
            "cat_2_cat_4          4428\n",
            "cat_3_cat_5          4417\n",
            "                     ... \n",
            "cat_1_cat_2_cat_6     141\n",
            "cat_2_cat_4_cat_7     141\n",
            "cat_1_cat_3_cat_4     138\n",
            "cat_3_cat_4_cat_6     136\n",
            "cat_2_cat_6_cat_7     133\n",
            "Name: category_combination, Length: 76, dtype: int64\n"
          ]
        }
      ]
    },
    {
      "cell_type": "markdown",
      "source": [
        "Plot it"
      ],
      "metadata": {
        "id": "R7cyX77BHaw0"
      }
    },
    {
      "cell_type": "code",
      "source": [
        "plt.figure(figsize=(12, 6))\n",
        "combination_distribution.plot(kind='bar')\n",
        "plt.title('Distribution of Category Combinations')\n",
        "plt.xlabel('Category Combinations')\n",
        "plt.ylabel('Frequency')\n",
        "plt.xticks(rotation=90)\n",
        "plt.show()"
      ],
      "metadata": {
        "colab": {
          "base_uri": "https://localhost:8080/",
          "height": 574
        },
        "id": "cqA78GCdHcIL",
        "outputId": "94244588-b15a-4103-c509-54abed7eb46c"
      },
      "execution_count": 124,
      "outputs": [
        {
          "output_type": "display_data",
          "data": {
            "text/plain": [
              "<Figure size 1200x600 with 1 Axes>"
            ],
            "image/png": "[encoded data removed]"
          },
          "metadata": {}
        }
      ]
    },
    {
      "cell_type": "markdown",
      "source": [
        "Find Category Correlation to it's store rating"
      ],
      "metadata": {
        "id": "8MLL0qVIHeif"
      }
    },
    {
      "cell_type": "code",
      "source": [
        "category_correlation = store_data[category_columns + ['avg_rating']].corr()['avg_rating'].drop('avg_rating')\n",
        "\n",
        "print(category_correlation)"
      ],
      "metadata": {
        "colab": {
          "base_uri": "https://localhost:8080/"
        },
        "id": "Vx7KuHw5HkK_",
        "outputId": "3dd9189d-5285-4a7e-c19b-27165de7e42a"
      },
      "execution_count": 125,
      "outputs": [
        {
          "output_type": "stream",
          "name": "stdout",
          "text": [
            "cat_1   -0.000578\n",
            "cat_2   -0.001306\n",
            "cat_3   -0.001306\n",
            "cat_4    0.001006\n",
            "cat_5   -0.000644\n",
            "cat_6    0.001483\n",
            "cat_7    0.003308\n",
            "cat_8   -0.002411\n",
            "Name: avg_rating, dtype: float64\n"
          ]
        }
      ]
    },
    {
      "cell_type": "markdown",
      "source": [
        "Plot it"
      ],
      "metadata": {
        "id": "VILopvcAHvWS"
      }
    },
    {
      "cell_type": "code",
      "source": [
        "plt.figure(figsize=(8, 4))\n",
        "category_correlation.plot(kind='bar')\n",
        "plt.title('Correlation of Categories with Average Rating')\n",
        "plt.xlabel('Categories')\n",
        "plt.ylabel('Correlation with Average Rating')\n",
        "plt.show()"
      ],
      "metadata": {
        "colab": {
          "base_uri": "https://localhost:8080/",
          "height": 434
        },
        "id": "-XJn-cGwHwH5",
        "outputId": "16795b3d-1f8c-4d70-e30e-b3072b4f4beb"
      },
      "execution_count": 126,
      "outputs": [
        {
          "output_type": "display_data",
          "data": {
            "text/plain": [
              "<Figure size 800x400 with 1 Axes>"
            ],
            "image/png": "[encoded data removed]"
          },
          "metadata": {}
        }
      ]
    }
  ]
}