{
  "nbformat": 4,
  "nbformat_minor": 0,
  "metadata": {
    "colab": {
      "provenance": [],
      "gpuType": "T4"
    },
    "kernelspec": {
      "name": "python3",
      "display_name": "Python 3"
    },
    "language_info": {
      "name": "python"
    },
    "accelerator": "GPU"
  },
  "cells": [
    {
      "cell_type": "markdown",
      "source": [
        "# Train a Neural Network for Content Based Filtering with Synthetic Data"
      ],
      "metadata": {
        "id": "bT3_gkn_fQ48"
      }
    },
    {
      "cell_type": "markdown",
      "source": [
        "## Import Libraries"
      ],
      "metadata": {
        "id": "3co-DFh4fX6H"
      }
    },
    {
      "cell_type": "code",
      "source": [
        "import numpy as np\n",
        "import numpy.ma as ma\n",
        "import pandas as pd\n",
        "import tensorflow as tf\n",
        "from tensorflow import keras\n",
        "from sklearn.preprocessing import StandardScaler, MinMaxScaler\n",
        "from sklearn.model_selection import train_test_split\n",
        "import tabulate\n",
        "import csv\n",
        "# from recsysNN_utils import *\n",
        "pd.set_option(\"display.precision\", 1)"
      ],
      "metadata": {
        "id": "xxDm2sHffdCi"
      },
      "execution_count": 1,
      "outputs": []
    },
    {
      "cell_type": "markdown",
      "source": [
        "## Load Generated Data"
      ],
      "metadata": {
        "id": "r17UU-3xff0N"
      }
    },
    {
      "cell_type": "markdown",
      "source": [
        "Load generated data from csv"
      ],
      "metadata": {
        "id": "5aUWEO_YCt_x"
      }
    },
    {
      "cell_type": "code",
      "source": [
        "user_rating = np.genfromtxt('synthetic_user_ratings_correlation_nullable.csv', delimiter=',')\n",
        "jasa_data = np.genfromtxt('synthetic_store_data_100k.csv', delimiter=',')\n",
        "y_train = np.genfromtxt('y_train_100k.csv', delimiter=',')\n",
        "\n",
        "with open('synthetic_user_rating_header.txt', newline='') as rating:\n",
        "  user_rating_header = list(csv.reader(rating))[0]\n",
        "with open('synthetic_store_data_header.txt', newline='') as jasa:\n",
        "  jasa_data_header = list(csv.reader(jasa))[0]\n",
        "\n",
        "num_user_features = user_rating.shape[1] - 3 # remove userid, rating count and ave rating during training\n",
        "num_jasa_features = jasa_data.shape[1] - 1  # remove jasaid at train time\n",
        "\n",
        "\n",
        "print(f\"Data size: {len(user_rating)}\")"
      ],
      "metadata": {
        "colab": {
          "base_uri": "https://localhost:8080/"
        },
        "id": "Sj4bWAbNflPd",
        "outputId": "f6657cd4-47f3-4ea2-89a0-cd154c6ad85c"
      },
      "execution_count": 2,
      "outputs": [
        {
          "output_type": "stream",
          "name": "stdout",
          "text": [
            "Data size: 100000\n"
          ]
        }
      ]
    },
    {
      "cell_type": "markdown",
      "source": [
        "Display user ratings table (**Only use the categories ratings**)"
      ],
      "metadata": {
        "id": "bOE4W6NVHRXf"
      }
    },
    {
      "cell_type": "code",
      "source": [
        "flist = [\".0f\",\".0f\",\".1f\",\".1f\",\".1f\",\".1f\",\".1f\",\".1f\",\".1f\",\".1f\",\".1f\"]\n",
        "user_head = user_rating_header\n",
        "user_display = [user_head]\n",
        "count = 0\n",
        "for i in range(1, user_rating.shape[0]):\n",
        "    if count == 15: break\n",
        "    count += 1\n",
        "    user_display.append([user_rating[i, 0].astype(int),\n",
        "                  user_rating[i, 1].astype(int),\n",
        "                  user_rating[i, 2].astype(float),\n",
        "                  *user_rating[i, 3:].astype(float)\n",
        "                ])\n",
        "user_table = tabulate.tabulate(user_display, headers=\"firstrow\", floatfmt=flist, numalign='center')\n",
        "print(user_table)"
      ],
      "metadata": {
        "colab": {
          "base_uri": "https://localhost:8080/"
        },
        "id": "RBeAFPg8C000",
        "outputId": "2d315b4e-22aa-4720-b0ee-5a2f27273005"
      },
      "execution_count": 3,
      "outputs": [
        {
          "output_type": "stream",
          "name": "stdout",
          "text": [
            " id_user    num_ratings    avg_rating    cat_1    cat_2    cat_3    cat_4    cat_5    cat_6    cat_7    cat_8\n",
            "---------  -------------  ------------  -------  -------  -------  -------  -------  -------  -------  -------\n",
            "    2           83            2.8         4.2      2.6      3.0      3.1      3.0      2.9      3.5      0.0\n",
            "    3           47            2.2         0.0      0.0      4.4      0.0      3.2      3.0      3.6      3.7\n",
            "    4           44            1.9         2.0      0.0      0.0      2.9      3.5      3.5      0.0      3.1\n",
            "    5           41            2.6         0.0      0.0      4.3      3.6      2.4      3.1      3.9      3.4\n",
            "    6           11            3.3         3.3      3.5      3.3      3.4      3.1      3.1      3.6      3.5\n",
            "    7           40            3.6         4.1      3.7      4.1      4.0      0.0      3.8      4.5      4.4\n",
            "    8           48            1.7         0.0      3.0      3.6      0.0      0.0      3.3      3.4      0.0\n",
            "    9           72            2.6         4.9      3.7      0.0      4.3      4.1      0.0      0.0      3.6\n",
            "   10           80            3.3         3.4      3.7      0.0      3.6      3.9      3.9      4.3      3.8\n",
            "   11           90            2.6         2.0      3.4      2.9      3.3      0.0      3.8      3.0      2.7\n",
            "   12           18            2.1         3.9      3.3      0.0      3.0      3.4      0.0      0.0      2.9\n",
            "   13           40            2.6         3.3      3.4      0.0      3.3      0.0      3.7      3.9      3.6\n",
            "   14           59            2.9         2.6      3.0      3.3      3.7      0.0      2.8      3.7      3.9\n",
            "   15           39            3.9         4.7      4.5      4.7      4.2      4.3      0.0      4.2      4.5\n",
            "   16           56            1.9         3.9      3.6      3.6      0.0      0.0      0.0      0.0      3.8\n"
          ]
        }
      ]
    },
    {
      "cell_type": "markdown",
      "source": [
        "Display some sample generated jasa data. (**Only using the one hot classification)**"
      ],
      "metadata": {
        "id": "75Ob7USxHkjb"
      }
    },
    {
      "cell_type": "code",
      "source": [
        "flist = [\".0f\",\".1f\",\".1f\",\".1f\",\".1f\",\".1f\",\".1f\",\".1f\",\".1f\",\".1f\"]\n",
        "jasa_head = jasa_data_header\n",
        "jasa_display = [jasa_head]\n",
        "count = 0\n",
        "for i in range(1, jasa_data.shape[0]):\n",
        "    if count == 15: break\n",
        "    count += 1\n",
        "    jasa_display.append([jasa_data[i, 0].astype(int),\n",
        "                  jasa_data[i, 1].astype(int),\n",
        "                  jasa_data[i, 2].astype(float),\n",
        "                  *jasa_data[i, 3:].astype(float)\n",
        "                ])\n",
        "jasa_table = tabulate.tabulate(jasa_display, headers=\"firstrow\", floatfmt=flist, numalign='center')\n",
        "print(jasa_table)"
      ],
      "metadata": {
        "colab": {
          "base_uri": "https://localhost:8080/"
        },
        "id": "XfXEvFt6NkXJ",
        "outputId": "86040383-a4ca-4864-932c-6260efc55831"
      },
      "execution_count": 4,
      "outputs": [
        {
          "output_type": "stream",
          "name": "stdout",
          "text": [
            " store_id    avg_rating    cat_1    cat_2    cat_3    cat_4    cat_5    cat_6    cat_7    cat_8\n",
            "----------  ------------  -------  -------  -------  -------  -------  -------  -------  -------\n",
            "    2           2.0         0.0      1.0      0.0      0.0      0.0      1.0      0.0      0.0\n",
            "    3           3.0         0.0      0.0      0.0      0.0      1.0      0.0      0.0      0.0\n",
            "    4           1.0         0.0      0.0      1.0      0.0      0.0      0.0      1.0      0.0\n",
            "    5           5.0         0.0      0.0      0.0      1.0      0.0      1.0      0.0      0.0\n",
            "    6           3.0         0.0      0.0      1.0      0.0      0.0      0.0      1.0      0.0\n",
            "    7           5.0         0.0      1.0      1.0      1.0      0.0      0.0      0.0      0.0\n",
            "    8           5.0         0.0      0.0      0.0      0.0      0.0      0.0      1.0      1.0\n",
            "    9           4.0         0.0      1.0      0.0      1.0      0.0      0.0      0.0      0.0\n",
            "    10          4.0         1.0      0.0      1.0      0.0      0.0      0.0      0.0      0.0\n",
            "    11          5.0         0.0      0.0      0.0      1.0      1.0      0.0      0.0      0.0\n",
            "    12          4.0         0.0      1.0      0.0      1.0      0.0      1.0      0.0      0.0\n",
            "    13          3.0         0.0      1.0      0.0      1.0      0.0      0.0      0.0      1.0\n",
            "    14          1.0         1.0      0.0      0.0      1.0      1.0      0.0      0.0      0.0\n",
            "    15          2.0         0.0      0.0      1.0      0.0      1.0      0.0      0.0      1.0\n",
            "    16          3.0         0.0      0.0      0.0      0.0      0.0      0.0      1.0      1.0\n"
          ]
        }
      ]
    },
    {
      "cell_type": "markdown",
      "source": [
        "Show generated y_train"
      ],
      "metadata": {
        "id": "r-4Qv-6zPQeu"
      }
    },
    {
      "cell_type": "code",
      "source": [
        "print(f\"y_train[:15]: {y_train[:15]}\")"
      ],
      "metadata": {
        "colab": {
          "base_uri": "https://localhost:8080/"
        },
        "id": "XtKO88BuPS0O",
        "outputId": "2b96edfa-3acf-40ff-93be-5961390e86a9"
      },
      "execution_count": 5,
      "outputs": [
        {
          "output_type": "stream",
          "name": "stdout",
          "text": [
            "y_train[:15]: [3.  2.  3.5 1.  5.  4.  5.  5.  4.5 4.  5.  5.  3.5 1.5 2.5]\n"
          ]
        }
      ]
    },
    {
      "cell_type": "markdown",
      "source": [
        "## Pre-process Data"
      ],
      "metadata": {
        "id": "9KjEK89tPf4s"
      }
    },
    {
      "cell_type": "markdown",
      "source": [
        "Data Scaling using Scikit-learn"
      ],
      "metadata": {
        "id": "PQzR8la-PjaI"
      }
    },
    {
      "cell_type": "code",
      "source": [
        "# scale training data\n",
        "user_rating_unscaled = user_rating\n",
        "jasa_data_unscaled = jasa_data\n",
        "y_train_unscaled    = y_train\n",
        "\n",
        "scalerItem = StandardScaler()\n",
        "scalerItem.fit(user_rating)\n",
        "user_rating = scalerItem.transform(user_rating)\n",
        "\n",
        "scalerUser = StandardScaler()\n",
        "scalerUser.fit(jasa_data)\n",
        "jasa_data = scalerUser.transform(jasa_data)\n",
        "\n",
        "scalerTarget = MinMaxScaler((-1, 1))\n",
        "scalerTarget.fit(y_train.reshape(-1, 1))\n",
        "y_train = scalerTarget.transform(y_train.reshape(-1, 1))\n",
        "#ynorm_test = scalerTarget.transform(y_test.reshape(-1, 1))\n",
        "\n",
        "print(np.allclose(user_rating_unscaled, scalerItem.inverse_transform(user_rating)))\n",
        "print(np.allclose(jasa_data_unscaled, scalerUser.inverse_transform(jasa_data)))"
      ],
      "metadata": {
        "colab": {
          "base_uri": "https://localhost:8080/"
        },
        "id": "oDSpZhM2Pnar",
        "outputId": "d8080ea1-b0ba-4479-d147-c15274da33ec"
      },
      "execution_count": 6,
      "outputs": [
        {
          "output_type": "stream",
          "name": "stdout",
          "text": [
            "True\n",
            "True\n"
          ]
        }
      ]
    },
    {
      "cell_type": "markdown",
      "source": [
        "Display the scaled user ratings"
      ],
      "metadata": {
        "id": "xVyp0kE_UAHJ"
      }
    },
    {
      "cell_type": "code",
      "source": [
        "flist = [\".0f\",\".0f\",\".1f\",\".1f\",\".1f\",\".1f\",\".1f\",\".1f\",\".1f\",\".1f\",\".1f\"]\n",
        "user_head = user_rating_header\n",
        "user_display = [user_head]\n",
        "count = 0\n",
        "for i in range(1, user_rating.shape[0]):\n",
        "    if count == 15: break\n",
        "    count += 1\n",
        "    user_display.append([user_rating[i, 0].astype(int),\n",
        "                  user_rating[i, 1].astype(int),\n",
        "                  user_rating[i, 2].astype(float),\n",
        "                  *user_rating[i, 3:].astype(float)\n",
        "                ])\n",
        "user_table = tabulate.tabulate(user_display, headers=\"firstrow\", floatfmt=flist, numalign='center')\n",
        "print(user_table)"
      ],
      "metadata": {
        "colab": {
          "base_uri": "https://localhost:8080/"
        },
        "id": "Le6lnaYzasUD",
        "outputId": "53039f3b-cabf-4a87-fb87-416797c77cde"
      },
      "execution_count": 7,
      "outputs": [
        {
          "output_type": "stream",
          "name": "stdout",
          "text": [
            " id_user    num_ratings    avg_rating    cat_1    cat_2    cat_3    cat_4    cat_5    cat_6    cat_7    cat_8\n",
            "---------  -------------  ------------  -------  -------  -------  -------  -------  -------  -------  -------\n",
            "   -1            1            -0.2        0.8     -0.2      0.0      0.1      0.1      0.0      0.4     -1.9\n",
            "   -1            0            -1.1       -1.8     -1.9      0.9     -1.9      0.1      0.0      0.4      0.5\n",
            "   -1            0            -1.7       -0.6     -1.9     -1.9     -0.0      0.4      0.3     -1.9      0.1\n",
            "   -1            0            -0.6       -1.8     -1.9      0.9      0.4     -0.3      0.1      0.6      0.3\n",
            "   -1           -1            0.6         0.2      0.3      0.2      0.3      0.1      0.1      0.4      0.3\n",
            "   -1            0            1.0         0.7      0.5      0.7      0.7     -1.9      0.5      1.0      0.9\n",
            "   -1            0            -2.0       -1.8      0.0      0.4     -1.9     -1.9      0.2      0.3     -1.9\n",
            "   -1            0            -0.6        1.2      0.5     -1.9      0.9      0.7     -1.9     -1.9      0.4\n",
            "   -1            0            0.6         0.3      0.5     -1.9      0.4      0.6      0.6      0.9      0.5\n",
            "   -1            1            -0.5       -0.6      0.3     -0.0      0.2     -1.9      0.5      0.0     -0.1\n",
            "   -1           -1            -1.4        0.6      0.2     -1.9      0.0      0.3     -1.9     -1.9      0.0\n",
            "   -1            0            -0.5        0.3      0.3     -1.9      0.2     -1.9      0.5      0.6      0.4\n",
            "   -1            0            -0.1       -0.2      0.0      0.3      0.5     -1.9     -0.1      0.5      0.6\n",
            "   -1            0            1.5         1.1      1.0      1.1      0.8      0.9     -1.9      0.8      1.0\n",
            "   -1            0            -1.7        0.6      0.4      0.4     -1.9     -1.9     -1.9     -1.9      0.6\n"
          ]
        }
      ]
    },
    {
      "cell_type": "markdown",
      "source": [
        "## Split data for training and testing"
      ],
      "metadata": {
        "id": "whIaYk_Nm_cf"
      }
    },
    {
      "cell_type": "code",
      "source": [
        "user_rating, user_rating_test = train_test_split(user_rating, train_size=0.80, shuffle=True, random_state=1)\n",
        "jasa_data, jasa_data_test = train_test_split(jasa_data, train_size=0.80, shuffle=True, random_state=1)\n",
        "y_train, y_test       = train_test_split(y_train,    train_size=0.80, shuffle=True, random_state=1)\n",
        "\n",
        "print(f\"user training data shape: {user_rating.shape}\")\n",
        "print(f\"user test data shape: {user_rating_test.shape}\")\n",
        "\n",
        "print(f\"jasa training data shape: {jasa_data.shape}\")\n",
        "print(f\"jasa test data shape: {jasa_data_test.shape}\")"
      ],
      "metadata": {
        "colab": {
          "base_uri": "https://localhost:8080/"
        },
        "id": "rkgLTHGlnDnk",
        "outputId": "df0e0253-ea04-46da-82fc-55a9ed5f4d26"
      },
      "execution_count": 8,
      "outputs": [
        {
          "output_type": "stream",
          "name": "stdout",
          "text": [
            "user training data shape: (80000, 11)\n",
            "user test data shape: (20000, 11)\n",
            "jasa training data shape: (80000, 10)\n",
            "jasa test data shape: (20000, 10)\n"
          ]
        }
      ]
    },
    {
      "cell_type": "markdown",
      "source": [
        "# Neural Network"
      ],
      "metadata": {
        "id": "CMwHFBupa5SU"
      }
    },
    {
      "cell_type": "markdown",
      "source": [
        "Defining the network"
      ],
      "metadata": {
        "id": "gmuycZNebFAn"
      }
    },
    {
      "cell_type": "code",
      "source": [
        "num_outputs = 32\n",
        "tf.random.set_seed(1)\n",
        "user_NN = tf.keras.models.Sequential([\n",
        "  tf.keras.layers.Dense(256, activation='relu'),\n",
        "    tf.keras.layers.Dense(128, activation='relu'),\n",
        "    tf.keras.layers.Dense(num_outputs, activation='linear'),\n",
        "])\n",
        "\n",
        "item_NN = tf.keras.models.Sequential([\n",
        "      tf.keras.layers.Dense(256, activation='relu'),\n",
        "    tf.keras.layers.Dense(128, activation='relu'),\n",
        "    tf.keras.layers.Dense(num_outputs, activation='linear'),\n",
        "])\n",
        "\n",
        "# create the user input and point to the base network\n",
        "input_user = tf.keras.layers.Input(shape=(num_user_features))\n",
        "vu = user_NN(input_user)\n",
        "vu = tf.linalg.l2_normalize(vu, axis=1)\n",
        "\n",
        "# create the item input and point to the base network\n",
        "input_item = tf.keras.layers.Input(shape=(num_jasa_features))\n",
        "vm = item_NN(input_item)\n",
        "vm = tf.linalg.l2_normalize(vm, axis=1)\n",
        "\n",
        "# compute the dot product of the two vectors vu and vm\n",
        "output = tf.keras.layers.Dot(axes=1)([vu, vm])\n",
        "\n",
        "# specify the inputs and output of the model\n",
        "model = tf.keras.Model([input_user, input_item], output)\n",
        "\n",
        "model.summary()"
      ],
      "metadata": {
        "colab": {
          "base_uri": "https://localhost:8080/"
        },
        "id": "oZgU_2sYbH6Z",
        "outputId": "b0769352-dbe3-4890-e645-1bd9dbfef403"
      },
      "execution_count": 9,
      "outputs": [
        {
          "output_type": "stream",
          "name": "stdout",
          "text": [
            "Model: \"model\"\n",
            "__________________________________________________________________________________________________\n",
            " Layer (type)                Output Shape                 Param #   Connected to                  \n",
            "==================================================================================================\n",
            " input_1 (InputLayer)        [(None, 8)]                  0         []                            \n",
            "                                                                                                  \n",
            " input_2 (InputLayer)        [(None, 9)]                  0         []                            \n",
            "                                                                                                  \n",
            " sequential (Sequential)     (None, 32)                   39328     ['input_1[0][0]']             \n",
            "                                                                                                  \n",
            " sequential_1 (Sequential)   (None, 32)                   39584     ['input_2[0][0]']             \n",
            "                                                                                                  \n",
            " tf.math.l2_normalize (TFOp  (None, 32)                   0         ['sequential[0][0]']          \n",
            " Lambda)                                                                                          \n",
            "                                                                                                  \n",
            " tf.math.l2_normalize_1 (TF  (None, 32)                   0         ['sequential_1[0][0]']        \n",
            " OpLambda)                                                                                        \n",
            "                                                                                                  \n",
            " dot (Dot)                   (None, 1)                    0         ['tf.math.l2_normalize[0][0]',\n",
            "                                                                     'tf.math.l2_normalize_1[0][0]\n",
            "                                                                    ']                            \n",
            "                                                                                                  \n",
            "==================================================================================================\n",
            "Total params: 78912 (308.25 KB)\n",
            "Trainable params: 78912 (308.25 KB)\n",
            "Non-trainable params: 0 (0.00 Byte)\n",
            "__________________________________________________________________________________________________\n"
          ]
        }
      ]
    },
    {
      "cell_type": "markdown",
      "source": [
        "Set up Loss (MSE) and Optimizer (Adam Optimizer)"
      ],
      "metadata": {
        "id": "iPCHV8AyoEO_"
      }
    },
    {
      "cell_type": "code",
      "source": [
        "tf.random.set_seed(1)\n",
        "cost_fn = tf.keras.losses.MeanSquaredError()\n",
        "opt = keras.optimizers.Adam(learning_rate=0.01)\n",
        "model.compile(optimizer=opt,\n",
        "              loss=cost_fn)"
      ],
      "metadata": {
        "id": "mF8JQ92moQCn"
      },
      "execution_count": 10,
      "outputs": []
    },
    {
      "cell_type": "markdown",
      "source": [
        "## Train the model on the dataset"
      ],
      "metadata": {
        "id": "mN-vYQYpobpn"
      }
    },
    {
      "cell_type": "markdown",
      "source": [
        "Train the model on the dataset"
      ],
      "metadata": {
        "id": "HkaVzUGvowen"
      }
    },
    {
      "cell_type": "code",
      "source": [
        "tf.random.set_seed(1)\n",
        "model.fit([user_rating[:, 3:], jasa_data[:, 1:]], y_train, epochs=30)"
      ],
      "metadata": {
        "colab": {
          "base_uri": "https://localhost:8080/"
        },
        "id": "oxgEv62lodoY",
        "outputId": "d03910c6-f019-4b16-afad-9bcd7ca3cc54"
      },
      "execution_count": 11,
      "outputs": [
        {
          "output_type": "stream",
          "name": "stdout",
          "text": [
            "Epoch 1/30\n",
            "2500/2500 [==============================] - 19s 4ms/step - loss: 0.0147\n",
            "Epoch 2/30\n",
            "2500/2500 [==============================] - 9s 4ms/step - loss: 0.0121\n",
            "Epoch 3/30\n",
            "2500/2500 [==============================] - 10s 4ms/step - loss: 0.0116\n",
            "Epoch 4/30\n",
            "2500/2500 [==============================] - 10s 4ms/step - loss: 0.0113\n",
            "Epoch 5/30\n",
            "2500/2500 [==============================] - 9s 4ms/step - loss: 0.0110\n",
            "Epoch 6/30\n",
            "2500/2500 [==============================] - 11s 4ms/step - loss: 0.0109\n",
            "Epoch 7/30\n",
            "2500/2500 [==============================] - 10s 4ms/step - loss: 0.0107\n",
            "Epoch 8/30\n",
            "2500/2500 [==============================] - 10s 4ms/step - loss: 0.0106\n",
            "Epoch 9/30\n",
            "2500/2500 [==============================] - 9s 4ms/step - loss: 0.0106\n",
            "Epoch 10/30\n",
            "2500/2500 [==============================] - 10s 4ms/step - loss: 0.0105\n",
            "Epoch 11/30\n",
            "2500/2500 [==============================] - 10s 4ms/step - loss: 0.0105\n",
            "Epoch 12/30\n",
            "2500/2500 [==============================] - 9s 4ms/step - loss: 0.0104\n",
            "Epoch 13/30\n",
            "2500/2500 [==============================] - 11s 4ms/step - loss: 0.0103\n",
            "Epoch 14/30\n",
            "2500/2500 [==============================] - 10s 4ms/step - loss: 0.0103\n",
            "Epoch 15/30\n",
            "2500/2500 [==============================] - 10s 4ms/step - loss: 0.0103\n",
            "Epoch 16/30\n",
            "2500/2500 [==============================] - 9s 4ms/step - loss: 0.0102\n",
            "Epoch 17/30\n",
            "2500/2500 [==============================] - 10s 4ms/step - loss: 0.0102\n",
            "Epoch 18/30\n",
            "2500/2500 [==============================] - 10s 4ms/step - loss: 0.0102\n",
            "Epoch 19/30\n",
            "2500/2500 [==============================] - 9s 4ms/step - loss: 0.0102\n",
            "Epoch 20/30\n",
            "2500/2500 [==============================] - 10s 4ms/step - loss: 0.0102\n",
            "Epoch 21/30\n",
            "2500/2500 [==============================] - 10s 4ms/step - loss: 0.0102\n",
            "Epoch 22/30\n",
            "2500/2500 [==============================] - 9s 4ms/step - loss: 0.0101\n",
            "Epoch 23/30\n",
            "2500/2500 [==============================] - 10s 4ms/step - loss: 0.0101\n",
            "Epoch 24/30\n",
            "2500/2500 [==============================] - 10s 4ms/step - loss: 0.0101\n",
            "Epoch 25/30\n",
            "2500/2500 [==============================] - 10s 4ms/step - loss: 0.0101\n",
            "Epoch 26/30\n",
            "2500/2500 [==============================] - 9s 4ms/step - loss: 0.0101\n",
            "Epoch 27/30\n",
            "2500/2500 [==============================] - 10s 4ms/step - loss: 0.0101\n",
            "Epoch 28/30\n",
            "2500/2500 [==============================] - 10s 4ms/step - loss: 0.0101\n",
            "Epoch 29/30\n",
            "2500/2500 [==============================] - 9s 4ms/step - loss: 0.0100\n",
            "Epoch 30/30\n",
            "2500/2500 [==============================] - 10s 4ms/step - loss: 0.0100\n"
          ]
        },
        {
          "output_type": "execute_result",
          "data": {
            "text/plain": [
              "<keras.src.callbacks.History at 0x7bdbc85aeb00>"
            ]
          },
          "metadata": {},
          "execution_count": 11
        }
      ]
    },
    {
      "cell_type": "markdown",
      "source": [
        "Evaluate on the training set"
      ],
      "metadata": {
        "id": "g5bl6BsbovIH"
      }
    },
    {
      "cell_type": "code",
      "source": [
        "model.evaluate([user_rating_test[:, 3:], jasa_data_test[:, 1:]], y_test)"
      ],
      "metadata": {
        "colab": {
          "base_uri": "https://localhost:8080/"
        },
        "id": "ECvXzafNo0fI",
        "outputId": "54b5e1f2-1e19-4297-ff55-90ad5c71e10f"
      },
      "execution_count": 12,
      "outputs": [
        {
          "output_type": "stream",
          "name": "stdout",
          "text": [
            "625/625 [==============================] - 2s 3ms/step - loss: 0.0103\n"
          ]
        },
        {
          "output_type": "execute_result",
          "data": {
            "text/plain": [
              "0.01033790223300457"
            ]
          },
          "metadata": {},
          "execution_count": 12
        }
      ]
    },
    {
      "cell_type": "markdown",
      "source": [
        "## Save model"
      ],
      "metadata": {
        "id": "8yHViap9qtKp"
      }
    },
    {
      "cell_type": "code",
      "source": [
        "model.save('/content/drive/MyDrive/jasakarya_saved_models/recsysnn_jasakarya_model_tf', save_format='tf') #Savedmodel"
      ],
      "metadata": {
        "id": "dk5KLBoJquNX"
      },
      "execution_count": 17,
      "outputs": []
    },
    {
      "cell_type": "code",
      "source": [
        "model.save('/content/drive/MyDrive/jasakarya_saved_models/recsysnn_jasakarya_model.keras') #Keras"
      ],
      "metadata": {
        "id": "6HtGnNfWq6Re"
      },
      "execution_count": 18,
      "outputs": []
    },
    {
      "cell_type": "code",
      "source": [
        "!pip install tensorflowjs"
      ],
      "metadata": {
        "id": "RG0UuTPOrVER"
      },
      "execution_count": null,
      "outputs": []
    },
    {
      "cell_type": "code",
      "source": [
        "!tensorflowjs_converter --input_format=tf_saved_model recsysnn_jasakarya_model_tf /content/drive/MyDrive/jasakarya_saved_models/recsysnn_jsakarya_model_js\n"
      ],
      "metadata": {
        "colab": {
          "base_uri": "https://localhost:8080/"
        },
        "id": "jXMKYXwprqkn",
        "outputId": "78aa04ab-2b94-49c4-9a8a-536a7430cd09"
      },
      "execution_count": 19,
      "outputs": [
        {
          "output_type": "stream",
          "name": "stdout",
          "text": [
            "2023-12-05 07:12:27.560608: E external/local_xla/xla/stream_executor/cuda/cuda_dnn.cc:9261] Unable to register cuDNN factory: Attempting to register factory for plugin cuDNN when one has already been registered\n",
            "2023-12-05 07:12:27.560665: E external/local_xla/xla/stream_executor/cuda/cuda_fft.cc:607] Unable to register cuFFT factory: Attempting to register factory for plugin cuFFT when one has already been registered\n",
            "2023-12-05 07:12:27.562227: E external/local_xla/xla/stream_executor/cuda/cuda_blas.cc:1515] Unable to register cuBLAS factory: Attempting to register factory for plugin cuBLAS when one has already been registered\n",
            "2023-12-05 07:12:28.577672: W tensorflow/compiler/tf2tensorrt/utils/py_utils.cc:38] TF-TRT Warning: Could not find TensorRT\n",
            "2023-12-05 07:12:30.404263: W tensorflow/core/common_runtime/gpu/gpu_device.cc:2256] Cannot dlopen some GPU libraries. Please make sure the missing libraries mentioned above are installed properly if you would like to use GPU. Follow the guide at https://www.tensorflow.org/install/gpu for how to download and setup the required libraries for your platform.\n",
            "Skipping registering GPU devices...\n",
            "2023-12-05 07:12:30.762239: W tensorflow/core/common_runtime/gpu/gpu_device.cc:2256] Cannot dlopen some GPU libraries. Please make sure the missing libraries mentioned above are installed properly if you would like to use GPU. Follow the guide at https://www.tensorflow.org/install/gpu for how to download and setup the required libraries for your platform.\n",
            "Skipping registering GPU devices...\n"
          ]
        }
      ]
    }
  ]
}