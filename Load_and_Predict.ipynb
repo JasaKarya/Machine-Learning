{
  "nbformat": 4,
  "nbformat_minor": 0,
  "metadata": {
    "colab": {
      "provenance": []
    },
    "kernelspec": {
      "name": "python3",
      "display_name": "Python 3"
    },
    "language_info": {
      "name": "python"
    }
  },
  "cells": [
    {
      "cell_type": "markdown",
      "source": [
        "# Predicting using saved model"
      ],
      "metadata": {
        "id": "E6Wgbo5J_hfJ"
      }
    },
    {
      "cell_type": "markdown",
      "source": [
        "## Load Model"
      ],
      "metadata": {
        "id": "vfpAtG0rWd7H"
      }
    },
    {
      "cell_type": "code",
      "execution_count": 24,
      "metadata": {
        "id": "T5VolTaV_ait"
      },
      "outputs": [],
      "source": [
        "import tensorflow as tf\n",
        "import numpy as np\n",
        "from numpy import genfromtxt\n",
        "import csv\n",
        "import pandas as pd\n",
        "import joblib\n",
        "import tabulate\n",
        "from sklearn.preprocessing import StandardScaler, MinMaxScaler"
      ]
    },
    {
      "cell_type": "markdown",
      "source": [
        "Load Model"
      ],
      "metadata": {
        "id": "lQm9m6SGVLSp"
      }
    },
    {
      "cell_type": "code",
      "source": [
        "saved_model_path = '/content/drive/MyDrive/jasakarya_saved_models/recsysnn_jasakarya_model_tf'"
      ],
      "metadata": {
        "id": "YDXSDaqhVMtA"
      },
      "execution_count": 14,
      "outputs": []
    },
    {
      "cell_type": "code",
      "source": [
        "model = tf.keras.models.load_model(saved_model_path)"
      ],
      "metadata": {
        "id": "QZk7S6b3VmMz"
      },
      "execution_count": 15,
      "outputs": []
    },
    {
      "cell_type": "markdown",
      "source": [
        "## Creating sample input for prediction"
      ],
      "metadata": {
        "id": "tdOthp_-VvkQ"
      }
    },
    {
      "cell_type": "markdown",
      "source": [
        "Load Target Jasa List (sampled from the training data)"
      ],
      "metadata": {
        "id": "GJjKM30IYrZq"
      }
    },
    {
      "cell_type": "code",
      "source": [
        "file_path = '/content/drive/MyDrive/jasakarya_saved_models/synthetic_store_data_100k.csv'\n",
        "jasa_data = np.genfromtxt(file_path, delimiter=',')"
      ],
      "metadata": {
        "id": "piVZRUcDYt2p"
      },
      "execution_count": 16,
      "outputs": []
    },
    {
      "cell_type": "markdown",
      "source": [
        "Shuffle the data"
      ],
      "metadata": {
        "id": "Ky74cxcdZvSV"
      }
    },
    {
      "cell_type": "code",
      "source": [
        "np.random.seed(42)\n",
        "shuffled_data_index = np.random.permutation(jasa_data.shape[0])\n",
        "subset_index = shuffled_data_index[:20]\n",
        "sample_data_jasa = jasa_data[subset_index]\n",
        "sample_jasa_vector = sample_data_jasa"
      ],
      "metadata": {
        "id": "HbP6q5bpZxgl"
      },
      "execution_count": 17,
      "outputs": []
    },
    {
      "cell_type": "markdown",
      "source": [
        "Display the sample data"
      ],
      "metadata": {
        "id": "yQ36B6B1eJup"
      }
    },
    {
      "cell_type": "code",
      "source": [
        "df = pd.DataFrame(sample_data_jasa)\n",
        "print(df)"
      ],
      "metadata": {
        "colab": {
          "base_uri": "https://localhost:8080/"
        },
        "id": "oczcSBpHeL87",
        "outputId": "d42baa50-e229-444a-854a-6427ed9875ec"
      },
      "execution_count": 18,
      "outputs": [
        {
          "output_type": "stream",
          "name": "stdout",
          "text": [
            "          0      1    2    3    4    5    6    7    8    9\n",
            "0   75722.0  4.910  0.0  0.0  1.0  0.0  0.0  0.0  1.0  1.0\n",
            "1   80185.0  4.052  0.0  0.0  1.0  0.0  0.0  0.0  0.0  1.0\n",
            "2   19865.0  2.086  0.0  0.0  0.0  0.0  0.0  1.0  0.0  0.0\n",
            "3   76700.0  3.233  0.0  0.0  0.0  1.0  1.0  0.0  0.0  0.0\n",
            "4   92992.0  4.124  0.0  0.0  1.0  0.0  0.0  0.0  1.0  0.0\n",
            "5   76435.0  4.962  0.0  0.0  0.0  1.0  1.0  0.0  0.0  0.0\n",
            "6   84005.0  1.000  1.0  0.0  0.0  0.0  0.0  0.0  0.0  0.0\n",
            "7   80918.0  2.928  0.0  0.0  0.0  0.0  0.0  0.0  0.0  1.0\n",
            "8   60768.0  2.242  0.0  0.0  0.0  0.0  1.0  0.0  0.0  0.0\n",
            "9   50075.0  3.210  1.0  0.0  0.0  0.0  0.0  0.0  0.0  0.0\n",
            "10  27702.0  4.876  1.0  0.0  0.0  0.0  1.0  0.0  1.0  0.0\n",
            "11  42142.0  3.015  0.0  1.0  0.0  0.0  0.0  1.0  0.0  0.0\n",
            "12  45081.0  5.000  0.0  0.0  1.0  0.0  1.0  0.0  0.0  0.0\n",
            "13  16639.0  4.072  0.0  0.0  1.0  0.0  1.0  0.0  0.0  0.0\n",
            "14  20425.0  2.867  0.0  0.0  0.0  1.0  0.0  1.0  0.0  0.0\n",
            "15  88703.0  3.066  0.0  0.0  0.0  0.0  1.0  0.0  0.0  1.0\n",
            "16    150.0  5.000  0.0  0.0  0.0  0.0  0.0  0.0  1.0  1.0\n",
            "17   1762.0  2.631  0.0  0.0  0.0  0.0  0.0  0.0  1.0  1.0\n",
            "18  63121.0  3.883  0.0  1.0  0.0  0.0  0.0  1.0  0.0  0.0\n",
            "19  69162.0  4.726  0.0  0.0  1.0  0.0  0.0  0.0  1.0  0.0\n"
          ]
        }
      ]
    },
    {
      "cell_type": "markdown",
      "source": [
        "Create User Vector Input"
      ],
      "metadata": {
        "id": "_Iy5LflIWtIh"
      }
    },
    {
      "cell_type": "code",
      "source": [
        "sample_user_id    = 123456\n",
        "sample_num_rating = 4\n",
        "sample_avg_rating = 4.5\n",
        "sample_cat_1      = 5.0\n",
        "sample_cat_2      = 0.0\n",
        "sample_cat_3      = 4.0\n",
        "sample_cat_4      = 0.0\n",
        "sample_cat_5      = 0.0\n",
        "sample_cat_6      = 0.0\n",
        "sample_cat_7      = 4.0\n",
        "sample_cat_8      = 5.0\n",
        "\n",
        "sample_user_vector = np.array([[sample_user_id, sample_num_rating, sample_avg_rating,\n",
        "                                sample_cat_1,sample_cat_2,sample_cat_3,sample_cat_4,\n",
        "                                sample_cat_5,sample_cat_6,sample_cat_7,sample_cat_8]])"
      ],
      "metadata": {
        "id": "xQKYZXngVy6z"
      },
      "execution_count": 19,
      "outputs": []
    },
    {
      "cell_type": "markdown",
      "source": [
        "Replicate user vector for every target item (jasa) given"
      ],
      "metadata": {
        "id": "aygO0P3SYWv_"
      }
    },
    {
      "cell_type": "code",
      "source": [
        "sample_user_vectors = np.tile(sample_user_vector, (len(sample_jasa_vector), 1))"
      ],
      "metadata": {
        "id": "faWI8wrgYc-a"
      },
      "execution_count": 20,
      "outputs": []
    },
    {
      "cell_type": "markdown",
      "source": [
        "Load saved scalers"
      ],
      "metadata": {
        "id": "BVMDTkB5OjgG"
      }
    },
    {
      "cell_type": "code",
      "source": [
        "scalerUserLocation = \"/content/drive/MyDrive/jasakarya_saved_models/scalerUser.joblib\"\n",
        "scalerJasaLocation = \"/content/drive/MyDrive/jasakarya_saved_models/scalerJasa.joblib\"\n",
        "scalerTargetLocation = \"/content/drive/MyDrive/jasakarya_saved_models/scalerTarget.joblib\"\n",
        "\n",
        "scalerUser = joblib.load(scalerUserLocation)\n",
        "scalerJasa = joblib.load(scalerJasaLocation)\n",
        "scalerTarget = joblib.load(scalerTargetLocation)"
      ],
      "metadata": {
        "id": "MEaFThKDOrBS"
      },
      "execution_count": 21,
      "outputs": []
    },
    {
      "cell_type": "markdown",
      "source": [
        "Scaling user and jasa vectors"
      ],
      "metadata": {
        "id": "XZFvEL2NPJhH"
      }
    },
    {
      "cell_type": "code",
      "source": [
        "sample_user_vectors = scalerUser.transform(sample_user_vectors)\n",
        "sample_data_jasa = scalerJasa.transform(sample_jasa_vector)"
      ],
      "metadata": {
        "id": "FNQcupJDPMBA"
      },
      "execution_count": 22,
      "outputs": []
    },
    {
      "cell_type": "markdown",
      "source": [
        "Prediction"
      ],
      "metadata": {
        "id": "NR299g2JPiuB"
      }
    },
    {
      "cell_type": "code",
      "source": [
        "y_prediction = model.predict([sample_user_vectors[:,3:], sample_jasa_vector[:, 1:]])"
      ],
      "metadata": {
        "colab": {
          "base_uri": "https://localhost:8080/"
        },
        "id": "QiD9hmC5Pj0O",
        "outputId": "1fddf1b6-ddee-48e4-a151-7a404ed456d3"
      },
      "execution_count": 23,
      "outputs": [
        {
          "output_type": "stream",
          "name": "stdout",
          "text": [
            "1/1 [==============================] - 0s 142ms/step\n"
          ]
        }
      ]
    },
    {
      "cell_type": "markdown",
      "source": [
        "Unscale prediction"
      ],
      "metadata": {
        "id": "ViETziZ0P9vo"
      }
    },
    {
      "cell_type": "code",
      "source": [
        "y_prediction_unscaled = scalerTarget.inverse_transform(y_prediction)"
      ],
      "metadata": {
        "id": "Ufkd4MfgP_D4"
      },
      "execution_count": 25,
      "outputs": []
    },
    {
      "cell_type": "markdown",
      "source": [
        "Sorting and showing prediction"
      ],
      "metadata": {
        "id": "5y5X3ew7QIDo"
      }
    },
    {
      "cell_type": "code",
      "source": [
        "sorted_index = np.argsort(-y_prediction_unscaled, axis=0).reshape(-1).tolist() # Biggest score to lowest\n",
        "sorted_prediction = y_prediction_unscaled[sorted_index]\n",
        "sorted_jasa = sample_jasa_vector[sorted_index]\n",
        "\n",
        "count = 0\n",
        "display = [[\"y prediction\", \"jasa id\", \"jasa rating avg\", \"cat_1\", \"cat_2\", \"cat_3\", \"cat_4\", \"cat_5\", \"cat_6\", \"cat_7\", \"cat_8\"]]\n",
        "\n",
        "for i in range(0, sorted_prediction.shape[0]):\n",
        "  if count == 15:\n",
        "    break\n",
        "  count += 1\n",
        "  jasa_id = sorted_jasa[i].astype(int)\n",
        "  display.append([np.around(sorted_prediction[i,0],1), sorted_jasa[i,0].astype(int), np.around(sorted_jasa[i,1].astype(float),1),\n",
        "                  np.around(sorted_jasa[i,2].astype(float),1),np.around(sorted_jasa[i,3].astype(float),1),np.around(sorted_jasa[i,4].astype(float),1)\n",
        "                  ,np.around(sorted_jasa[i,5].astype(float),1),np.around(sorted_jasa[i,6].astype(float),1),np.around(sorted_jasa[i,7].astype(float),1)\n",
        "                  ,np.around(sorted_jasa[i,8].astype(float),1),np.around(sorted_jasa[i,9].astype(float),1)])\n",
        "\n",
        "table = tabulate.tabulate(display, headers=\"firstrow\")\n",
        "print(table)"
      ],
      "metadata": {
        "colab": {
          "base_uri": "https://localhost:8080/"
        },
        "id": "Y2A_9ZmtQMwm",
        "outputId": "f8938863-cfe2-431b-eebf-724ba80fc8f8"
      },
      "execution_count": 28,
      "outputs": [
        {
          "output_type": "stream",
          "name": "stdout",
          "text": [
            "  y prediction    jasa id    jasa rating avg    cat_1    cat_2    cat_3    cat_4    cat_5    cat_6    cat_7    cat_8\n",
            "--------------  ---------  -----------------  -------  -------  -------  -------  -------  -------  -------  -------\n",
            "           4.7      84005                1          1        0        0        0        0        0        0        0\n",
            "           4.3      19865                2.1        0        0        0        0        0        1        0        0\n",
            "           4.3      60768                2.2        0        0        0        0        1        0        0        0\n",
            "           4.2       1762                2.6        0        0        0        0        0        0        1        1\n",
            "           4.2      20425                2.9        0        0        0        1        0        1        0        0\n",
            "           4.2      42142                3          0        1        0        0        0        1        0        0\n",
            "           4.2      80918                2.9        0        0        0        0        0        0        0        1\n",
            "           4.2      88703                3.1        0        0        0        0        1        0        0        1\n",
            "           4.2      50075                3.2        1        0        0        0        0        0        0        0\n",
            "           4.2      76700                3.2        0        0        0        1        1        0        0        0\n",
            "           4.2      63121                3.9        0        1        0        0        0        1        0        0\n",
            "           4.2      80185                4.1        0        0        1        0        0        0        0        1\n",
            "           4.2      16639                4.1        0        0        1        0        1        0        0        0\n",
            "           4.2      92992                4.1        0        0        1        0        0        0        1        0\n",
            "           4.2      27702                4.9        1        0        0        0        1        0        1        0\n"
          ]
        }
      ]
    }
  ]
}